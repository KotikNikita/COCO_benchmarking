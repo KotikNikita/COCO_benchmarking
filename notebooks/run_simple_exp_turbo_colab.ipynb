{
  "nbformat": 4,
  "nbformat_minor": 0,
  "metadata": {
    "colab": {
      "provenance": []
    },
    "kernelspec": {
      "name": "python3",
      "display_name": "Python 3"
    },
    "language_info": {
      "name": "python"
    }
  },
  "cells": [
    {
      "cell_type": "code",
      "execution_count": 1,
      "metadata": {
        "colab": {
          "base_uri": "https://localhost:8080/"
        },
        "id": "5JXhkgU_dQkB",
        "outputId": "883401a5-8fc3-494a-c62c-dff8c22de089"
      },
      "outputs": [
        {
          "output_type": "stream",
          "name": "stdout",
          "text": [
            "Cloning into 'TuRBO'...\n",
            "remote: Enumerating objects: 25, done.\u001b[K\n",
            "remote: Counting objects: 100% (13/13), done.\u001b[K\n",
            "remote: Compressing objects: 100% (11/11), done.\u001b[K\n",
            "remote: Total 25 (delta 4), reused 2 (delta 2), pack-reused 12\u001b[K\n",
            "Receiving objects: 100% (25/25), 70.05 KiB | 779.00 KiB/s, done.\n",
            "Resolving deltas: 100% (6/6), done.\n",
            "Collecting gpytorch\n",
            "  Downloading gpytorch-1.11-py3-none-any.whl (266 kB)\n",
            "\u001b[2K     \u001b[90m━━━━━━━━━━━━━━━━━━━━━━━━━━━━━━━━━━━━━━━━\u001b[0m \u001b[32m266.1/266.1 kB\u001b[0m \u001b[31m3.0 MB/s\u001b[0m eta \u001b[36m0:00:00\u001b[0m\n",
            "\u001b[?25hRequirement already satisfied: scikit-learn in /usr/local/lib/python3.10/dist-packages (from gpytorch) (1.2.2)\n",
            "Collecting linear-operator>=0.5.0 (from gpytorch)\n",
            "  Downloading linear_operator-0.5.2-py3-none-any.whl (175 kB)\n",
            "\u001b[2K     \u001b[90m━━━━━━━━━━━━━━━━━━━━━━━━━━━━━━━━━━━━━━━━\u001b[0m \u001b[32m175.6/175.6 kB\u001b[0m \u001b[31m8.3 MB/s\u001b[0m eta \u001b[36m0:00:00\u001b[0m\n",
            "\u001b[?25hRequirement already satisfied: torch>=1.11 in /usr/local/lib/python3.10/dist-packages (from linear-operator>=0.5.0->gpytorch) (2.1.0+cu121)\n",
            "Requirement already satisfied: scipy in /usr/local/lib/python3.10/dist-packages (from linear-operator>=0.5.0->gpytorch) (1.11.4)\n",
            "Collecting jaxtyping>=0.2.9 (from linear-operator>=0.5.0->gpytorch)\n",
            "  Downloading jaxtyping-0.2.25-py3-none-any.whl (39 kB)\n",
            "Collecting typeguard~=2.13.3 (from linear-operator>=0.5.0->gpytorch)\n",
            "  Downloading typeguard-2.13.3-py3-none-any.whl (17 kB)\n",
            "Requirement already satisfied: numpy>=1.17.3 in /usr/local/lib/python3.10/dist-packages (from scikit-learn->gpytorch) (1.23.5)\n",
            "Requirement already satisfied: joblib>=1.1.1 in /usr/local/lib/python3.10/dist-packages (from scikit-learn->gpytorch) (1.3.2)\n",
            "Requirement already satisfied: threadpoolctl>=2.0.0 in /usr/local/lib/python3.10/dist-packages (from scikit-learn->gpytorch) (3.2.0)\n",
            "Requirement already satisfied: typing-extensions>=3.7.4.1 in /usr/local/lib/python3.10/dist-packages (from jaxtyping>=0.2.9->linear-operator>=0.5.0->gpytorch) (4.5.0)\n",
            "Requirement already satisfied: filelock in /usr/local/lib/python3.10/dist-packages (from torch>=1.11->linear-operator>=0.5.0->gpytorch) (3.13.1)\n",
            "Requirement already satisfied: sympy in /usr/local/lib/python3.10/dist-packages (from torch>=1.11->linear-operator>=0.5.0->gpytorch) (1.12)\n",
            "Requirement already satisfied: networkx in /usr/local/lib/python3.10/dist-packages (from torch>=1.11->linear-operator>=0.5.0->gpytorch) (3.2.1)\n",
            "Requirement already satisfied: jinja2 in /usr/local/lib/python3.10/dist-packages (from torch>=1.11->linear-operator>=0.5.0->gpytorch) (3.1.2)\n",
            "Requirement already satisfied: fsspec in /usr/local/lib/python3.10/dist-packages (from torch>=1.11->linear-operator>=0.5.0->gpytorch) (2023.6.0)\n",
            "Requirement already satisfied: triton==2.1.0 in /usr/local/lib/python3.10/dist-packages (from torch>=1.11->linear-operator>=0.5.0->gpytorch) (2.1.0)\n",
            "Requirement already satisfied: MarkupSafe>=2.0 in /usr/local/lib/python3.10/dist-packages (from jinja2->torch>=1.11->linear-operator>=0.5.0->gpytorch) (2.1.3)\n",
            "Requirement already satisfied: mpmath>=0.19 in /usr/local/lib/python3.10/dist-packages (from sympy->torch>=1.11->linear-operator>=0.5.0->gpytorch) (1.3.0)\n",
            "Installing collected packages: typeguard, jaxtyping, linear-operator, gpytorch\n",
            "Successfully installed gpytorch-1.11 jaxtyping-0.2.25 linear-operator-0.5.2 typeguard-2.13.3\n"
          ]
        }
      ],
      "source": [
        "!pip install gpytorch"
      ]
    },
    {
      "cell_type": "code",
      "source": [
        "from google.colab import files"
      ],
      "metadata": {
        "id": "po3JiJg0deYi"
      },
      "execution_count": 2,
      "outputs": []
    },
    {
      "cell_type": "code",
      "source": [
        "!pip install cocopp\n",
        "!git clone https://github.com/numbbo/coco.git\n",
        "!cd coco; python do.py run-python"
      ],
      "metadata": {
        "colab": {
          "base_uri": "https://localhost:8080/"
        },
        "id": "YUZN5UuidfM7",
        "outputId": "2cf40e43-2302-4d63-e199-2a03142a50db"
      },
      "execution_count": 3,
      "outputs": [
        {
          "output_type": "stream",
          "name": "stdout",
          "text": [
            "Collecting cocopp\n",
            "  Downloading cocopp-2.6.3-py3-none-any.whl (4.8 MB)\n",
            "\u001b[2K     \u001b[90m━━━━━━━━━━━━━━━━━━━━━━━━━━━━━━━━━━━━━━━━\u001b[0m \u001b[32m4.8/4.8 MB\u001b[0m \u001b[31m16.4 MB/s\u001b[0m eta \u001b[36m0:00:00\u001b[0m\n",
            "\u001b[?25hInstalling collected packages: cocopp\n",
            "Successfully installed cocopp-2.6.3\n",
            "Cloning into 'coco'...\n",
            "remote: Enumerating objects: 57651, done.\u001b[K\n",
            "remote: Counting objects: 100% (3506/3506), done.\u001b[K\n",
            "remote: Compressing objects: 100% (1251/1251), done.\u001b[K\n",
            "remote: Total 57651 (delta 2386), reused 3108 (delta 2157), pack-reused 54145\u001b[K\n",
            "Receiving objects: 100% (57651/57651), 277.60 MiB | 22.70 MiB/s, done.\n",
            "Resolving deltas: 100% (37262/37262), done.\n",
            "AML\t['code-experiments/src/coco_random.c', 'code-experiments/src/coco_suite.c', 'code-experiments/src/coco_observer.c', 'code-experiments/src/coco_archive.c', 'code-experiments/src/coco_runtime_c.c'] -> code-experiments/build/python/cython/coco.c\n",
            "EXPAND\tcode-experiments/build/python/cython/coco.c.in to code-experiments/build/python/cython/coco.c\n",
            "EXPAND\tcode-experiments/src/coco.h to code-experiments/build/python/cython/coco.h\n",
            "COPY\tcode-experiments/src/bbob2009_testcases.txt -> code-experiments/build/python/bbob2009_testcases.txt\n",
            "COPY\tcode-experiments/src/bbob2009_testcases2.txt -> code-experiments/build/python/bbob2009_testcases2.txt\n",
            "COPY\tcode-experiments/build/python/README.md -> code-experiments/build/python/README.txt\n",
            "EXPAND\tcode-experiments/build/python/setup.py.in to code-experiments/build/python/setup.py\n",
            "PYTHON\tsetup.py install in code-experiments/build/python\n",
            "PYTHON\texample_experiment.py bbob in code-experiments/build/python\n"
          ]
        }
      ]
    },
    {
      "cell_type": "code",
      "source": [
        "!cd coco/code-experiments/build/python; git clone https://github.com/uber-research/TuRBO"
      ],
      "metadata": {
        "colab": {
          "base_uri": "https://localhost:8080/"
        },
        "id": "BjASvzbod0eI",
        "outputId": "dc05fec0-ec77-4b9f-ae75-ff47a8f68cb6"
      },
      "execution_count": 7,
      "outputs": [
        {
          "output_type": "stream",
          "name": "stdout",
          "text": [
            "Cloning into 'TuRBO'...\n",
            "remote: Enumerating objects: 25, done.\u001b[K\n",
            "remote: Counting objects: 100% (13/13), done.\u001b[K\n",
            "remote: Compressing objects: 100% (11/11), done.\u001b[K\n",
            "remote: Total 25 (delta 4), reused 2 (delta 2), pack-reused 12\u001b[K\n",
            "Receiving objects: 100% (25/25), 70.05 KiB | 797.00 KiB/s, done.\n",
            "Resolving deltas: 100% (6/6), done.\n"
          ]
        }
      ]
    },
    {
      "cell_type": "code",
      "source": [
        "!cd coco/code-experiments/build/python; python example_experiment_for_beginners.py"
      ],
      "metadata": {
        "colab": {
          "base_uri": "https://localhost:8080/"
        },
        "id": "X0MCJ03EfuPH",
        "outputId": "5f1b139e-365f-40d7-8470-b05402ad6079"
      },
      "execution_count": 11,
      "outputs": [
        {
          "output_type": "stream",
          "name": "stdout",
          "text": [
            "COCO INFO: Results will be output to folder exdata/scipy-optimize-fmin-003\n",
            "2D 14h28:35s\n",
            ".......... .......... .......... .......... ..........\n",
            ".......... |...|..... .......... .......... ..........\n",
            ".......... .......... .......... .......... ..........\n",
            ".......... .......... .......... .......... ..........\n",
            ".......... .......... .......... .......... ..........\n",
            ".......... .......... .......... .......... ..........\n",
            ".......... .......... .......... .......... ..........\n",
            "..........\n",
            "3D 15h59:15s\n",
            ".......... .......... .......... .......... ..........\n",
            ".......... |...|..... .........Traceback (most recent call last):\n",
            "  File \"/content/coco/code-experiments/build/python/example_experiment_for_beginners.py\", line 59, in <module>\n",
            "    fmin(problem, x0, verbose=False)  # here we assume that `fmin` evaluates the final/returned solution\n",
            "  File \"/content/coco/code-experiments/build/python/example_experiment_for_beginners.py\", line 39, in fmin\n",
            "    return fmin_.optimize()\n",
            "  File \"/content/coco/code-experiments/build/python/TuRBO/turbo/turbo_1.py\", line 275, in optimize\n",
            "    X_cand, y_cand, _ = self._create_candidates(\n",
            "  File \"/content/coco/code-experiments/build/python/TuRBO/turbo/turbo_1.py\", line 173, in _create_candidates\n",
            "    gp = train_gp(\n",
            "  File \"/content/coco/code-experiments/build/python/TuRBO/turbo/gp.py\", line 89, in train_gp\n",
            "    output = model(train_x)\n",
            "  File \"/usr/local/lib/python3.10/dist-packages/gpytorch/models/exact_gp.py\", line 268, in __call__\n",
            "    res = super().__call__(*inputs, **kwargs)\n",
            "  File \"/usr/local/lib/python3.10/dist-packages/gpytorch/module.py\", line 31, in __call__\n",
            "    outputs = self.forward(*inputs, **kwargs)\n",
            "  File \"/content/coco/code-experiments/build/python/TuRBO/turbo/gp.py\", line 38, in forward\n",
            "    return MultivariateNormal(mean_x, covar_x)\n",
            "  File \"/usr/local/lib/python3.10/dist-packages/gpytorch/distributions/multivariate_normal.py\", line 58, in __init__\n",
            "    batch_shape = torch.broadcast_shapes(self.loc.shape[:-1], covariance_matrix.shape[:-2])\n",
            "  File \"/usr/local/lib/python3.10/dist-packages/linear_operator/operators/_linear_operator.py\", line 2285, in shape\n",
            "    return self._size()\n",
            "  File \"/usr/local/lib/python3.10/dist-packages/gpytorch/utils/memoize.py\", line 57, in g\n",
            "    kwargs_pkl = pickle.dumps(kwargs)\n",
            "KeyboardInterrupt\n"
          ]
        }
      ]
    }
  ]
}